{
 "cells": [
  {
   "cell_type": "markdown",
   "metadata": {},
   "source": [
    "## EXEMPLOS DE FUNCIONS"
   ]
  },
  {
   "cell_type": "code",
   "execution_count": 8,
   "metadata": {},
   "outputs": [],
   "source": [
    "# Criando uma fuction para cadastrar produtos em letras minusculas\n",
    "\n",
    "def cadastrar_produto():\n",
    "    produto = input(\"Digite o nome do produto que deseja cadastar\")\n",
    "    produto = produto.casefold() #passando para letras minusculas\n",
    "    produto = produto.strip() # remova os espaços antes e depois\n",
    "    return produto # resposta da função\n",
    "   "
   ]
  },
  {
   "cell_type": "code",
   "execution_count": 9,
   "metadata": {},
   "outputs": [
    {
     "name": "stdout",
     "output_type": "stream",
     "text": [
      "feijao\n"
     ]
    }
   ],
   "source": [
    "produto_cadastrado = cadastrar_produto()\n",
    "\n",
    "print(produto_cadastrado)"
   ]
  },
  {
   "cell_type": "code",
   "execution_count": 10,
   "metadata": {},
   "outputs": [],
   "source": [
    "#Criando uma função de soma onde recebe 3 números\n",
    "\n",
    "def soma_numeros():\n",
    "    num1 = int(input(\"digite o primeiro número inteiro\"))\n",
    "    num2 = int(input(\"digite o segundo número inteiro\"))\n",
    "    num3 = int(input(\"digite o terceiro número inteiro\"))\n",
    "    soma = num1 + num2 + num3\n",
    "    return soma"
   ]
  },
  {
   "cell_type": "code",
   "execution_count": 11,
   "metadata": {},
   "outputs": [
    {
     "name": "stdout",
     "output_type": "stream",
     "text": [
      "60\n"
     ]
    }
   ],
   "source": [
    "resultado = soma_numeros()\n",
    "print(resultado)"
   ]
  }
 ],
 "metadata": {
  "kernelspec": {
   "display_name": "base",
   "language": "python",
   "name": "python3"
  },
  "language_info": {
   "codemirror_mode": {
    "name": "ipython",
    "version": 3
   },
   "file_extension": ".py",
   "mimetype": "text/x-python",
   "name": "python",
   "nbconvert_exporter": "python",
   "pygments_lexer": "ipython3",
   "version": "3.9.7"
  },
  "orig_nbformat": 4
 },
 "nbformat": 4,
 "nbformat_minor": 2
}
